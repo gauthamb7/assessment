{
 "cells": [
  {
   "cell_type": "code",
   "execution_count": 1,
   "id": "d22f3746-1920-4b0e-ba98-a325bbae063a",
   "metadata": {
    "execution": {
     "iopub.execute_input": "2024-12-09T05:25:16.543240Z",
     "iopub.status.busy": "2024-12-09T05:25:16.542762Z",
     "iopub.status.idle": "2024-12-09T05:25:16.548225Z",
     "shell.execute_reply": "2024-12-09T05:25:16.547515Z"
    },
    "papermill": {
     "duration": 0.024992,
     "end_time": "2024-12-09T05:25:16.549598",
     "exception": false,
     "start_time": "2024-12-09T05:25:16.524606",
     "status": "completed"
    },
    "tags": []
   },
   "outputs": [],
   "source": [
    "# pip install psycopg2 pandas"
   ]
  },
  {
   "cell_type": "code",
   "execution_count": 2,
   "id": "32c2e689-9630-4396-8090-a84381d1ec58",
   "metadata": {
    "execution": {
     "iopub.execute_input": "2024-12-09T05:25:16.572112Z",
     "iopub.status.busy": "2024-12-09T05:25:16.571819Z",
     "iopub.status.idle": "2024-12-09T05:25:16.575537Z",
     "shell.execute_reply": "2024-12-09T05:25:16.574792Z"
    },
    "papermill": {
     "duration": 0.018794,
     "end_time": "2024-12-09T05:25:16.577065",
     "exception": false,
     "start_time": "2024-12-09T05:25:16.558271",
     "status": "completed"
    },
    "tags": []
   },
   "outputs": [],
   "source": [
    "# pip install python-dotenv psycopg2\n"
   ]
  },
  {
   "cell_type": "markdown",
   "id": "de51c164-1cc8-4c09-817b-8207c741ccb4",
   "metadata": {
    "papermill": {
     "duration": 0.008195,
     "end_time": "2024-12-09T05:25:16.595952",
     "exception": false,
     "start_time": "2024-12-09T05:25:16.587757",
     "status": "completed"
    },
    "tags": []
   },
   "source": [
    "### Connection Details"
   ]
  },
  {
   "cell_type": "code",
   "execution_count": 3,
   "id": "c2479176-6bea-4ffe-8836-99e9841d5064",
   "metadata": {
    "execution": {
     "iopub.execute_input": "2024-12-09T05:25:16.616706Z",
     "iopub.status.busy": "2024-12-09T05:25:16.616482Z",
     "iopub.status.idle": "2024-12-09T05:25:17.032413Z",
     "shell.execute_reply": "2024-12-09T05:25:17.031238Z"
    },
    "papermill": {
     "duration": 0.428237,
     "end_time": "2024-12-09T05:25:17.034325",
     "exception": false,
     "start_time": "2024-12-09T05:25:16.606088",
     "status": "completed"
    },
    "tags": []
   },
   "outputs": [],
   "source": [
    "import os\n",
    "from sqlalchemy import create_engine, text\n",
    "from sqlalchemy.exc import OperationalError \n",
    "from dotenv import load_dotenv\n",
    "import pandas as pd\n",
    "\n",
    "def get_database_connection(env_path: str = \".env\") -> 'sqlalchemy.engine.base.Engine':\n",
    "    \"\"\"\n",
    "    Creates and returns a database connection engine using credentials from an .env file.\n",
    "    Validates the connection by executing a simple query.\n",
    "    \"\"\"\n",
    "    \n",
    "    def test_connection(engine: 'sqlalchemy.engine.base.Engine') -> bool:\n",
    "        \"\"\"\n",
    "        Tests the database connection by executing a simple query.\n",
    "        \"\"\"\n",
    "        with engine.connect() as connection:\n",
    "            connection.execute(text(\"SELECT 1\"))\n",
    "        return True\n",
    "\n",
    "\n",
    "    load_dotenv(env_path)\n",
    "\n",
    "    db_config = {\n",
    "        \"username\": os.getenv(\"DB_USERNAME\"),\n",
    "        \"password\": os.getenv(\"DB_PASSWORD\"),\n",
    "        \"host\": os.getenv(\"DB_HOST\", \"localhost\"),  # Default to localhost\n",
    "        \"port\": os.getenv(\"DB_PORT\", \"5432\"),       # Default to 5432\n",
    "        \"database\": os.getenv(\"DB_DATABASE\"),\n",
    "    }\n",
    "\n",
    "    missing_keys = [key for key, value in db_config.items() if value is None]\n",
    "    if missing_keys:\n",
    "        raise ValueError(f\"Missing required database configuration keys: {', '.join(missing_keys)}\")\n",
    "\n",
    "    engine = create_engine(\n",
    "        f\"postgresql://{db_config['username']}:{db_config['password']}@{db_config['host']}:{db_config['port']}/{db_config['database']}\"\n",
    "    )\n",
    "\n",
    "    #Testing the connection\n",
    "    try:\n",
    "        test_connection(engine)\n",
    "        print(\"Database connection tested successfully!\")\n",
    "    except OperationalError as e:\n",
    "        raise ConnectionError(f\"Database connection test failed: {e}\")\n",
    "\n",
    "    return engine\n"
   ]
  },
  {
   "cell_type": "code",
   "execution_count": 4,
   "id": "a245ba46-7c17-432e-b4cf-6f6247fc88ce",
   "metadata": {
    "execution": {
     "iopub.execute_input": "2024-12-09T05:25:17.057824Z",
     "iopub.status.busy": "2024-12-09T05:25:17.057505Z",
     "iopub.status.idle": "2024-12-09T05:25:17.062294Z",
     "shell.execute_reply": "2024-12-09T05:25:17.061385Z"
    },
    "papermill": {
     "duration": 0.017467,
     "end_time": "2024-12-09T05:25:17.063816",
     "exception": false,
     "start_time": "2024-12-09T05:25:17.046349",
     "status": "completed"
    },
    "tags": []
   },
   "outputs": [],
   "source": [
    "def fetch_table_db(engine, query) -> pd.DataFrame:\n",
    "    \"\"\"\n",
    "    Fetches two tables from the database, joins them, and returns the result as a DataFrame.\n",
    "    \"\"\"\n",
    "    try:\n",
    "        df = pd.read_sql(query, engine)\n",
    "        print(\"Data fetched successfully\")\n",
    "        return df\n",
    "    except Exception as e:\n",
    "        print(f\"Error fetching data: {e}\")\n",
    "        return pd.DataFrame() \n",
    "        \n",
    "def insert_data(engine, df, table):\n",
    "    try:\n",
    "        df.to_sql(table, engine, index=False, if_exists='append', method='multi')\n",
    "        print(f\"Data successfully inserted into {table} table.\")\n",
    "    except Exception as e:\n",
    "        print(f\"Error inserting data into {table}: {e}\")"
   ]
  },
  {
   "cell_type": "code",
   "execution_count": 5,
   "id": "8ca1e7b1-0133-4338-86c5-318e9464efdc",
   "metadata": {
    "execution": {
     "iopub.execute_input": "2024-12-09T05:25:17.086424Z",
     "iopub.status.busy": "2024-12-09T05:25:17.086206Z",
     "iopub.status.idle": "2024-12-09T05:25:17.220114Z",
     "shell.execute_reply": "2024-12-09T05:25:17.219409Z"
    },
    "papermill": {
     "duration": 0.147182,
     "end_time": "2024-12-09T05:25:17.221363",
     "exception": false,
     "start_time": "2024-12-09T05:25:17.074181",
     "status": "completed"
    },
    "tags": []
   },
   "outputs": [
    {
     "name": "stdout",
     "output_type": "stream",
     "text": [
      "Database connection tested successfully!\n"
     ]
    }
   ],
   "source": [
    "engine = get_database_connection()\n",
    "# ! jupyter notebook --ServerApp.iopub_data_rate_limit=10000000\n"
   ]
  },
  {
   "cell_type": "markdown",
   "id": "0c1866d3-5128-41a3-8d8c-2f394cb8bd94",
   "metadata": {
    "papermill": {
     "duration": 0.008121,
     "end_time": "2024-12-09T05:25:17.239981",
     "exception": false,
     "start_time": "2024-12-09T05:25:17.231860",
     "status": "completed"
    },
    "tags": []
   },
   "source": [
    "#### Data Transformation"
   ]
  },
  {
   "cell_type": "markdown",
   "id": "89f0b701-044c-4f20-a13b-7e6cdd6a69ef",
   "metadata": {
    "papermill": {
     "duration": 0.008551,
     "end_time": "2024-12-09T05:25:17.258080",
     "exception": false,
     "start_time": "2024-12-09T05:25:17.249529",
     "status": "completed"
    },
    "tags": []
   },
   "source": [
    "#### 1. Write queries to transform the two tables into one table having one row per message."
   ]
  },
  {
   "cell_type": "markdown",
   "id": "e704a954-4de5-41e1-9a84-c943edd6abfd",
   "metadata": {
    "papermill": {
     "duration": 0.009092,
     "end_time": "2024-12-09T05:25:17.277104",
     "exception": false,
     "start_time": "2024-12-09T05:25:17.268012",
     "status": "completed"
    },
    "tags": []
   },
   "source": [
    "#### Below query retrieves the latest status for each message by joining the l0_messages table with the l0_statuses table, using ROW_NUMBER() to rank statuses by their update time. It returns the most recent status for each message along with relevant message details"
   ]
  },
  {
   "cell_type": "code",
   "execution_count": 6,
   "id": "66f76870-42a2-4dcb-a35a-18dcc03485c2",
   "metadata": {
    "execution": {
     "iopub.execute_input": "2024-12-09T05:25:17.298086Z",
     "iopub.status.busy": "2024-12-09T05:25:17.297828Z",
     "iopub.status.idle": "2024-12-09T05:25:17.301644Z",
     "shell.execute_reply": "2024-12-09T05:25:17.301088Z"
    },
    "papermill": {
     "duration": 0.016568,
     "end_time": "2024-12-09T05:25:17.302671",
     "exception": false,
     "start_time": "2024-12-09T05:25:17.286103",
     "status": "completed"
    },
    "tags": []
   },
   "outputs": [],
   "source": [
    "query1 = \"\"\"\n",
    "            WITH status AS (\n",
    "                SELECT \n",
    "                    id AS status_id, \n",
    "                    status, \n",
    "                    timestamp, \n",
    "                    uuid AS status_uuid, \n",
    "                    message_uuid, \n",
    "                    number_id, \n",
    "                    inserted_at, \n",
    "                    updated_at, \n",
    "                    ROW_NUMBER() OVER (PARTITION BY message_uuid ORDER BY updated_at DESC) AS rnk\n",
    "                FROM l0_statuses\n",
    "            )\n",
    "            SELECT \n",
    "                    m.id AS message_id, \n",
    "                    m.content, \n",
    "                    m.message_type, \n",
    "                    m.masked_addressees, \n",
    "                    m.masked_from_addr,\n",
    "                    m.direction, \n",
    "                    m.external_id, \n",
    "                    m.external_timestamp, \n",
    "                    m.is_deleted,\n",
    "                    m.last_status, \n",
    "                    m.last_status_timestamp, \n",
    "                    m.rendered_content, \n",
    "                    m.uuid AS message_uuid,\n",
    "                    m.inserted_at as message_inserted_at, \n",
    "                    m.updated_at as message_updated_at, \n",
    "                    m.masked_author, \n",
    "                    m.author_type,\n",
    "                    m.source_type,  \n",
    "                    s.status_id, \n",
    "                    s.status, \n",
    "                    s.timestamp as status_timestamp, \n",
    "                    s.status_uuid, \n",
    "                    s.message_uuid as message_status_uuid, \n",
    "                    s.number_id, \n",
    "                    s.inserted_at as message_status_inserted_at, \n",
    "                    s.updated_at as message_status_updated_at \n",
    "                FROM l0_messages m \n",
    "                LEFT JOIN (SELECT * from status where rnk = 1) s ON m.uuid = s.message_uuid;\n",
    "    \"\"\""
   ]
  },
  {
   "cell_type": "code",
   "execution_count": 7,
   "id": "c5b42421-aec0-4c4a-8ec5-b91d8087a59a",
   "metadata": {
    "execution": {
     "iopub.execute_input": "2024-12-09T05:25:17.321028Z",
     "iopub.status.busy": "2024-12-09T05:25:17.320798Z",
     "iopub.status.idle": "2024-12-09T05:25:18.322002Z",
     "shell.execute_reply": "2024-12-09T05:25:18.321287Z"
    },
    "papermill": {
     "duration": 1.011256,
     "end_time": "2024-12-09T05:25:18.323146",
     "exception": false,
     "start_time": "2024-12-09T05:25:17.311890",
     "status": "completed"
    },
    "tags": []
   },
   "outputs": [
    {
     "name": "stdout",
     "output_type": "stream",
     "text": [
      "Data fetched successfully\n"
     ]
    },
    {
     "data": {
      "text/html": [
       "<div>\n",
       "<style scoped>\n",
       "    .dataframe tbody tr th:only-of-type {\n",
       "        vertical-align: middle;\n",
       "    }\n",
       "\n",
       "    .dataframe tbody tr th {\n",
       "        vertical-align: top;\n",
       "    }\n",
       "\n",
       "    .dataframe thead th {\n",
       "        text-align: right;\n",
       "    }\n",
       "</style>\n",
       "<table border=\"1\" class=\"dataframe\">\n",
       "  <thead>\n",
       "    <tr style=\"text-align: right;\">\n",
       "      <th></th>\n",
       "      <th>message_id</th>\n",
       "      <th>content</th>\n",
       "      <th>message_type</th>\n",
       "      <th>masked_addressees</th>\n",
       "      <th>masked_from_addr</th>\n",
       "      <th>direction</th>\n",
       "      <th>external_id</th>\n",
       "      <th>external_timestamp</th>\n",
       "      <th>is_deleted</th>\n",
       "      <th>last_status</th>\n",
       "      <th>...</th>\n",
       "      <th>author_type</th>\n",
       "      <th>source_type</th>\n",
       "      <th>status_id</th>\n",
       "      <th>status</th>\n",
       "      <th>status_timestamp</th>\n",
       "      <th>status_uuid</th>\n",
       "      <th>message_status_uuid</th>\n",
       "      <th>number_id</th>\n",
       "      <th>message_status_inserted_at</th>\n",
       "      <th>message_status_updated_at</th>\n",
       "    </tr>\n",
       "  </thead>\n",
       "  <tbody>\n",
       "    <tr>\n",
       "      <th>0</th>\n",
       "      <td>225827003</td>\n",
       "      <td>छठे माह के बच्चे को क्या दाल का पानी पीला सकते...</td>\n",
       "      <td>text</td>\n",
       "      <td>8316157823254039726</td>\n",
       "      <td>360699995903664615</td>\n",
       "      <td>inbound</td>\n",
       "      <td>ABEGkYmCWHJiAhAYMP42_69FGA2CoT8e0Igw</td>\n",
       "      <td>2021-09-09 17:25:00.000</td>\n",
       "      <td>None</td>\n",
       "      <td>None</td>\n",
       "      <td>...</td>\n",
       "      <td>OWNER</td>\n",
       "      <td>CHANNEL_MESSAGE</td>\n",
       "      <td>NaN</td>\n",
       "      <td>None</td>\n",
       "      <td>NaT</td>\n",
       "      <td>None</td>\n",
       "      <td>None</td>\n",
       "      <td>None</td>\n",
       "      <td>NaT</td>\n",
       "      <td>NaT</td>\n",
       "    </tr>\n",
       "    <tr>\n",
       "      <th>1</th>\n",
       "      <td>290238495</td>\n",
       "      <td>Ha ek per normal hai</td>\n",
       "      <td>text</td>\n",
       "      <td>8316157823254039726</td>\n",
       "      <td>1924410226241906500</td>\n",
       "      <td>inbound</td>\n",
       "      <td>ABEGkYh4aZgWAhCc0KJxm2sPNBWXkl8UYqXC</td>\n",
       "      <td>2022-06-01 08:26:28.000</td>\n",
       "      <td>None</td>\n",
       "      <td>None</td>\n",
       "      <td>...</td>\n",
       "      <td>OWNER</td>\n",
       "      <td>CHANNEL_MESSAGE</td>\n",
       "      <td>NaN</td>\n",
       "      <td>None</td>\n",
       "      <td>NaT</td>\n",
       "      <td>None</td>\n",
       "      <td>None</td>\n",
       "      <td>None</td>\n",
       "      <td>NaT</td>\n",
       "      <td>NaT</td>\n",
       "    </tr>\n",
       "    <tr>\n",
       "      <th>3</th>\n",
       "      <td>286769759</td>\n",
       "      <td>None</td>\n",
       "      <td>voice</td>\n",
       "      <td>8316157823254039726</td>\n",
       "      <td>2372380464914471916</td>\n",
       "      <td>inbound</td>\n",
       "      <td>ABEGkZORIpkWAghHCYh-gowJvw</td>\n",
       "      <td>2022-05-10 15:43:33.000</td>\n",
       "      <td>None</td>\n",
       "      <td>None</td>\n",
       "      <td>...</td>\n",
       "      <td>OWNER</td>\n",
       "      <td>CHANNEL_MESSAGE</td>\n",
       "      <td>NaN</td>\n",
       "      <td>None</td>\n",
       "      <td>NaT</td>\n",
       "      <td>None</td>\n",
       "      <td>None</td>\n",
       "      <td>None</td>\n",
       "      <td>NaT</td>\n",
       "      <td>NaT</td>\n",
       "    </tr>\n",
       "    <tr>\n",
       "      <th>4</th>\n",
       "      <td>810101715</td>\n",
       "      <td>Hk</td>\n",
       "      <td>text</td>\n",
       "      <td>8316157823254039726</td>\n",
       "      <td>7716078790004740279</td>\n",
       "      <td>inbound</td>\n",
       "      <td>wamid.HBgMOTE5NzAxOTc5MjYxFQIAEhggQ0Y0OEJGOUM1...</td>\n",
       "      <td>2024-03-31 16:36:11.000</td>\n",
       "      <td>None</td>\n",
       "      <td>None</td>\n",
       "      <td>...</td>\n",
       "      <td>OWNER</td>\n",
       "      <td>CHANNEL_MESSAGE</td>\n",
       "      <td>NaN</td>\n",
       "      <td>None</td>\n",
       "      <td>NaT</td>\n",
       "      <td>None</td>\n",
       "      <td>None</td>\n",
       "      <td>None</td>\n",
       "      <td>NaT</td>\n",
       "      <td>NaT</td>\n",
       "    </tr>\n",
       "    <tr>\n",
       "      <th>6</th>\n",
       "      <td>200616477</td>\n",
       "      <td>Khri sarkari scheme aa ji</td>\n",
       "      <td>text</td>\n",
       "      <td>3301580771866412427</td>\n",
       "      <td>99406278043849801</td>\n",
       "      <td>inbound</td>\n",
       "      <td>ABEGkZd5cgOJAhDNLGabLS98ypJTnsVAFkfK</td>\n",
       "      <td>2021-05-28 15:57:33.201</td>\n",
       "      <td>None</td>\n",
       "      <td>None</td>\n",
       "      <td>...</td>\n",
       "      <td>OWNER</td>\n",
       "      <td>CHANNEL_MESSAGE</td>\n",
       "      <td>NaN</td>\n",
       "      <td>None</td>\n",
       "      <td>NaT</td>\n",
       "      <td>None</td>\n",
       "      <td>None</td>\n",
       "      <td>None</td>\n",
       "      <td>NaT</td>\n",
       "      <td>NaT</td>\n",
       "    </tr>\n",
       "    <tr>\n",
       "      <th>...</th>\n",
       "      <td>...</td>\n",
       "      <td>...</td>\n",
       "      <td>...</td>\n",
       "      <td>...</td>\n",
       "      <td>...</td>\n",
       "      <td>...</td>\n",
       "      <td>...</td>\n",
       "      <td>...</td>\n",
       "      <td>...</td>\n",
       "      <td>...</td>\n",
       "      <td>...</td>\n",
       "      <td>...</td>\n",
       "      <td>...</td>\n",
       "      <td>...</td>\n",
       "      <td>...</td>\n",
       "      <td>...</td>\n",
       "      <td>...</td>\n",
       "      <td>...</td>\n",
       "      <td>...</td>\n",
       "      <td>...</td>\n",
       "      <td>...</td>\n",
       "    </tr>\n",
       "    <tr>\n",
       "      <th>3210</th>\n",
       "      <td>722353501</td>\n",
       "      <td>Kuch infaction hogya h kya</td>\n",
       "      <td>text</td>\n",
       "      <td>8316157823254039726</td>\n",
       "      <td>1413503464614001621</td>\n",
       "      <td>inbound</td>\n",
       "      <td>ABEGkWIyh4ckAhDvF0bobIfoD1_hr-r4Onio</td>\n",
       "      <td>2024-01-13 21:10:51.000</td>\n",
       "      <td>None</td>\n",
       "      <td>None</td>\n",
       "      <td>...</td>\n",
       "      <td>OWNER</td>\n",
       "      <td>CHANNEL_MESSAGE</td>\n",
       "      <td>NaN</td>\n",
       "      <td>None</td>\n",
       "      <td>NaT</td>\n",
       "      <td>None</td>\n",
       "      <td>None</td>\n",
       "      <td>None</td>\n",
       "      <td>NaT</td>\n",
       "      <td>NaT</td>\n",
       "    </tr>\n",
       "    <tr>\n",
       "      <th>3211</th>\n",
       "      <td>648440641</td>\n",
       "      <td>None</td>\n",
       "      <td>text</td>\n",
       "      <td>8316157823254039726</td>\n",
       "      <td>6265043104492981808</td>\n",
       "      <td>inbound</td>\n",
       "      <td>ABEGkYiJQEFRAhAbqXBtpnlGk1jqoRAMHh-v</td>\n",
       "      <td>2023-11-06 18:52:12.000</td>\n",
       "      <td>None</td>\n",
       "      <td>None</td>\n",
       "      <td>...</td>\n",
       "      <td>OWNER</td>\n",
       "      <td>CHANNEL_MESSAGE</td>\n",
       "      <td>NaN</td>\n",
       "      <td>None</td>\n",
       "      <td>NaT</td>\n",
       "      <td>None</td>\n",
       "      <td>None</td>\n",
       "      <td>None</td>\n",
       "      <td>NaT</td>\n",
       "      <td>NaT</td>\n",
       "    </tr>\n",
       "    <tr>\n",
       "      <th>3212</th>\n",
       "      <td>671581374</td>\n",
       "      <td>Manju</td>\n",
       "      <td>text</td>\n",
       "      <td>8316157823254039726</td>\n",
       "      <td>5559927377690657409</td>\n",
       "      <td>inbound</td>\n",
       "      <td>ABEGkZMBZUEkAhDvmLU9xW3kehFr6DKZtz9K</td>\n",
       "      <td>2023-11-20 03:31:46.000</td>\n",
       "      <td>None</td>\n",
       "      <td>None</td>\n",
       "      <td>...</td>\n",
       "      <td>OWNER</td>\n",
       "      <td>CHANNEL_MESSAGE</td>\n",
       "      <td>NaN</td>\n",
       "      <td>None</td>\n",
       "      <td>NaT</td>\n",
       "      <td>None</td>\n",
       "      <td>None</td>\n",
       "      <td>None</td>\n",
       "      <td>NaT</td>\n",
       "      <td>NaT</td>\n",
       "    </tr>\n",
       "    <tr>\n",
       "      <th>3213</th>\n",
       "      <td>583415251</td>\n",
       "      <td>👍🏻</td>\n",
       "      <td>text</td>\n",
       "      <td>8316157823254039726</td>\n",
       "      <td>5894953256185105314</td>\n",
       "      <td>inbound</td>\n",
       "      <td>ABEGkXJgkGOXAhBlYtuVCqpD2aUyVNnWpEe5</td>\n",
       "      <td>2023-10-08 03:34:55.000</td>\n",
       "      <td>None</td>\n",
       "      <td>None</td>\n",
       "      <td>...</td>\n",
       "      <td>OWNER</td>\n",
       "      <td>CHANNEL_MESSAGE</td>\n",
       "      <td>NaN</td>\n",
       "      <td>None</td>\n",
       "      <td>NaT</td>\n",
       "      <td>None</td>\n",
       "      <td>None</td>\n",
       "      <td>None</td>\n",
       "      <td>NaT</td>\n",
       "      <td>NaT</td>\n",
       "    </tr>\n",
       "    <tr>\n",
       "      <th>3214</th>\n",
       "      <td>580669502</td>\n",
       "      <td>Or koe nirdesh</td>\n",
       "      <td>text</td>\n",
       "      <td>8316157823254039726</td>\n",
       "      <td>8608251914463379820</td>\n",
       "      <td>inbound</td>\n",
       "      <td>ABEGkZcTYWcyAhBeB0kTHV5_EPJzpmAWevAe</td>\n",
       "      <td>2023-10-06 14:54:59.000</td>\n",
       "      <td>None</td>\n",
       "      <td>None</td>\n",
       "      <td>...</td>\n",
       "      <td>OWNER</td>\n",
       "      <td>CHANNEL_MESSAGE</td>\n",
       "      <td>NaN</td>\n",
       "      <td>None</td>\n",
       "      <td>NaT</td>\n",
       "      <td>None</td>\n",
       "      <td>None</td>\n",
       "      <td>None</td>\n",
       "      <td>NaT</td>\n",
       "      <td>NaT</td>\n",
       "    </tr>\n",
       "  </tbody>\n",
       "</table>\n",
       "<p>1409 rows × 26 columns</p>\n",
       "</div>"
      ],
      "text/plain": [
       "      message_id                                            content  \\\n",
       "0      225827003  छठे माह के बच्चे को क्या दाल का पानी पीला सकते...   \n",
       "1      290238495                               Ha ek per normal hai   \n",
       "3      286769759                                               None   \n",
       "4      810101715                                                 Hk   \n",
       "6      200616477                          Khri sarkari scheme aa ji   \n",
       "...          ...                                                ...   \n",
       "3210   722353501                         Kuch infaction hogya h kya   \n",
       "3211   648440641                                               None   \n",
       "3212   671581374                                              Manju   \n",
       "3213   583415251                                                 👍🏻   \n",
       "3214   580669502                                     Or koe nirdesh   \n",
       "\n",
       "     message_type    masked_addressees     masked_from_addr direction  \\\n",
       "0            text  8316157823254039726   360699995903664615   inbound   \n",
       "1            text  8316157823254039726  1924410226241906500   inbound   \n",
       "3           voice  8316157823254039726  2372380464914471916   inbound   \n",
       "4            text  8316157823254039726  7716078790004740279   inbound   \n",
       "6            text  3301580771866412427    99406278043849801   inbound   \n",
       "...           ...                  ...                  ...       ...   \n",
       "3210         text  8316157823254039726  1413503464614001621   inbound   \n",
       "3211         text  8316157823254039726  6265043104492981808   inbound   \n",
       "3212         text  8316157823254039726  5559927377690657409   inbound   \n",
       "3213         text  8316157823254039726  5894953256185105314   inbound   \n",
       "3214         text  8316157823254039726  8608251914463379820   inbound   \n",
       "\n",
       "                                            external_id  \\\n",
       "0                  ABEGkYmCWHJiAhAYMP42_69FGA2CoT8e0Igw   \n",
       "1                  ABEGkYh4aZgWAhCc0KJxm2sPNBWXkl8UYqXC   \n",
       "3                            ABEGkZORIpkWAghHCYh-gowJvw   \n",
       "4     wamid.HBgMOTE5NzAxOTc5MjYxFQIAEhggQ0Y0OEJGOUM1...   \n",
       "6                  ABEGkZd5cgOJAhDNLGabLS98ypJTnsVAFkfK   \n",
       "...                                                 ...   \n",
       "3210               ABEGkWIyh4ckAhDvF0bobIfoD1_hr-r4Onio   \n",
       "3211               ABEGkYiJQEFRAhAbqXBtpnlGk1jqoRAMHh-v   \n",
       "3212               ABEGkZMBZUEkAhDvmLU9xW3kehFr6DKZtz9K   \n",
       "3213               ABEGkXJgkGOXAhBlYtuVCqpD2aUyVNnWpEe5   \n",
       "3214               ABEGkZcTYWcyAhBeB0kTHV5_EPJzpmAWevAe   \n",
       "\n",
       "          external_timestamp is_deleted last_status  ... author_type  \\\n",
       "0    2021-09-09 17:25:00.000       None        None  ...       OWNER   \n",
       "1    2022-06-01 08:26:28.000       None        None  ...       OWNER   \n",
       "3    2022-05-10 15:43:33.000       None        None  ...       OWNER   \n",
       "4    2024-03-31 16:36:11.000       None        None  ...       OWNER   \n",
       "6    2021-05-28 15:57:33.201       None        None  ...       OWNER   \n",
       "...                      ...        ...         ...  ...         ...   \n",
       "3210 2024-01-13 21:10:51.000       None        None  ...       OWNER   \n",
       "3211 2023-11-06 18:52:12.000       None        None  ...       OWNER   \n",
       "3212 2023-11-20 03:31:46.000       None        None  ...       OWNER   \n",
       "3213 2023-10-08 03:34:55.000       None        None  ...       OWNER   \n",
       "3214 2023-10-06 14:54:59.000       None        None  ...       OWNER   \n",
       "\n",
       "          source_type status_id status status_timestamp  status_uuid  \\\n",
       "0     CHANNEL_MESSAGE       NaN   None              NaT         None   \n",
       "1     CHANNEL_MESSAGE       NaN   None              NaT         None   \n",
       "3     CHANNEL_MESSAGE       NaN   None              NaT         None   \n",
       "4     CHANNEL_MESSAGE       NaN   None              NaT         None   \n",
       "6     CHANNEL_MESSAGE       NaN   None              NaT         None   \n",
       "...               ...       ...    ...              ...          ...   \n",
       "3210  CHANNEL_MESSAGE       NaN   None              NaT         None   \n",
       "3211  CHANNEL_MESSAGE       NaN   None              NaT         None   \n",
       "3212  CHANNEL_MESSAGE       NaN   None              NaT         None   \n",
       "3213  CHANNEL_MESSAGE       NaN   None              NaT         None   \n",
       "3214  CHANNEL_MESSAGE       NaN   None              NaT         None   \n",
       "\n",
       "     message_status_uuid number_id  message_status_inserted_at  \\\n",
       "0                   None      None                         NaT   \n",
       "1                   None      None                         NaT   \n",
       "3                   None      None                         NaT   \n",
       "4                   None      None                         NaT   \n",
       "6                   None      None                         NaT   \n",
       "...                  ...       ...                         ...   \n",
       "3210                None      None                         NaT   \n",
       "3211                None      None                         NaT   \n",
       "3212                None      None                         NaT   \n",
       "3213                None      None                         NaT   \n",
       "3214                None      None                         NaT   \n",
       "\n",
       "     message_status_updated_at  \n",
       "0                          NaT  \n",
       "1                          NaT  \n",
       "3                          NaT  \n",
       "4                          NaT  \n",
       "6                          NaT  \n",
       "...                        ...  \n",
       "3210                       NaT  \n",
       "3211                       NaT  \n",
       "3212                       NaT  \n",
       "3213                       NaT  \n",
       "3214                       NaT  \n",
       "\n",
       "[1409 rows x 26 columns]"
      ]
     },
     "execution_count": 7,
     "metadata": {},
     "output_type": "execute_result"
    }
   ],
   "source": [
    "join_df = fetch_table_db(engine,query1)\n",
    "join_df[join_df['direction']=='inbound']"
   ]
  },
  {
   "cell_type": "code",
   "execution_count": 8,
   "id": "ad3e07a6-76a7-4bc3-8120-382452b9be82",
   "metadata": {
    "execution": {
     "iopub.execute_input": "2024-12-09T05:25:18.345054Z",
     "iopub.status.busy": "2024-12-09T05:25:18.344615Z",
     "iopub.status.idle": "2024-12-09T05:25:29.266660Z",
     "shell.execute_reply": "2024-12-09T05:25:29.265819Z"
    },
    "papermill": {
     "duration": 10.934092,
     "end_time": "2024-12-09T05:25:29.268374",
     "exception": false,
     "start_time": "2024-12-09T05:25:18.334282",
     "status": "completed"
    },
    "tags": []
   },
   "outputs": [
    {
     "name": "stdout",
     "output_type": "stream",
     "text": [
      "Data successfully inserted into l1_message_status table.\n"
     ]
    }
   ],
   "source": [
    "insert_data(engine, join_df,'l1_message_status')"
   ]
  },
  {
   "cell_type": "code",
   "execution_count": null,
   "id": "cac1b977-8ddc-4411-af2e-24fe43c8d465",
   "metadata": {
    "papermill": {
     "duration": 0.012057,
     "end_time": "2024-12-09T05:25:29.292999",
     "exception": false,
     "start_time": "2024-12-09T05:25:29.280942",
     "status": "completed"
    },
    "tags": []
   },
   "outputs": [],
   "source": []
  },
  {
   "cell_type": "markdown",
   "id": "2072d8d0-307c-40a8-bdcd-bd542b966f6a",
   "metadata": {
    "papermill": {
     "duration": 0.013158,
     "end_time": "2024-12-09T05:25:29.324759",
     "exception": false,
     "start_time": "2024-12-09T05:25:29.311601",
     "status": "completed"
    },
    "tags": []
   },
   "source": [
    "#### 2. Write a query to detect and flag duplicate records based on identical content and similar inserted_at timestamps."
   ]
  },
  {
   "cell_type": "markdown",
   "id": "c71ea9b9-e238-495d-97e2-7b7bd849eb69",
   "metadata": {
    "papermill": {
     "duration": 0.013064,
     "end_time": "2024-12-09T05:25:29.355130",
     "exception": false,
     "start_time": "2024-12-09T05:25:29.342066",
     "status": "completed"
    },
    "tags": []
   },
   "source": [
    "##### Here I'm ranking messages by content for inbound and rendered content for outbound messages, partitioned by the minute of insertion, and flags duplicate messages within the same minute based on their rank\n",
    "##### a. DATE_TRUNC - to truncate the timestamp till minute level, making seconds \"00\" for any give timestamp\n",
    "##### b. ROW_NUMBER() - to rank every row as unique as possible based on content/rendered_content and inserted_at"
   ]
  },
  {
   "cell_type": "code",
   "execution_count": 9,
   "id": "28fb8609-6c9f-4914-bece-dbbf20a82615",
   "metadata": {
    "execution": {
     "iopub.execute_input": "2024-12-09T05:25:29.390562Z",
     "iopub.status.busy": "2024-12-09T05:25:29.389588Z",
     "iopub.status.idle": "2024-12-09T05:25:29.396549Z",
     "shell.execute_reply": "2024-12-09T05:25:29.394854Z"
    },
    "papermill": {
     "duration": 0.031461,
     "end_time": "2024-12-09T05:25:29.400749",
     "exception": false,
     "start_time": "2024-12-09T05:25:29.369288",
     "status": "completed"
    },
    "tags": []
   },
   "outputs": [],
   "source": [
    "query2 = \"\"\"\n",
    "            WITH rnk_message_status AS (\n",
    "            SELECT \n",
    "                * ,\n",
    "                ROW_NUMBER() OVER (\n",
    "                    PARTITION BY \n",
    "                        CASE \n",
    "                            WHEN direction = 'inbound' THEN content \n",
    "                            WHEN direction = 'outbound' THEN rendered_content \n",
    "                            ELSE NULL \n",
    "                        END, \n",
    "                        DATE_TRUNC('minute', message_inserted_at)\n",
    "                ) AS rnk\n",
    "            FROM l1_message_status\n",
    "        )\n",
    "        SELECT \n",
    "            id,\n",
    "            message_id,\n",
    "            content,\n",
    "            message_type,\n",
    "            masked_addressees,\n",
    "            masked_from_addr,\n",
    "            direction,\n",
    "            external_id,\n",
    "            external_timestamp,\n",
    "            is_deleted,\n",
    "            last_status,\n",
    "            last_status_timestamp,\n",
    "            rendered_content,\n",
    "            message_uuid,\n",
    "            message_inserted_at,\n",
    "            message_updated_at,\n",
    "            masked_author,\n",
    "            author_type,\n",
    "            source_type,\n",
    "            status_id,\n",
    "            status,\n",
    "            status_timestamp,\n",
    "            status_uuid,\n",
    "            message_status_uuid,\n",
    "            number_id,\n",
    "            message_status_inserted_at,\n",
    "            message_status_updated_at,\n",
    "            CASE WHEN rnk = 1 THEN FALSE ELSE TRUE END AS is_duplicated\n",
    "        FROM rnk_message_status;\n",
    "\n",
    "    \"\"\""
   ]
  },
  {
   "cell_type": "code",
   "execution_count": 10,
   "id": "014c6c43-2c4e-4b9f-ab1c-30358c48b37f",
   "metadata": {
    "execution": {
     "iopub.execute_input": "2024-12-09T05:25:29.440986Z",
     "iopub.status.busy": "2024-12-09T05:25:29.440135Z",
     "iopub.status.idle": "2024-12-09T05:25:33.443873Z",
     "shell.execute_reply": "2024-12-09T05:25:33.442559Z"
    },
    "papermill": {
     "duration": 4.029882,
     "end_time": "2024-12-09T05:25:33.448250",
     "exception": false,
     "start_time": "2024-12-09T05:25:29.418368",
     "status": "completed"
    },
    "tags": []
   },
   "outputs": [
    {
     "name": "stdout",
     "output_type": "stream",
     "text": [
      "Data fetched successfully\n"
     ]
    },
    {
     "data": {
      "text/html": [
       "<div>\n",
       "<style scoped>\n",
       "    .dataframe tbody tr th:only-of-type {\n",
       "        vertical-align: middle;\n",
       "    }\n",
       "\n",
       "    .dataframe tbody tr th {\n",
       "        vertical-align: top;\n",
       "    }\n",
       "\n",
       "    .dataframe thead th {\n",
       "        text-align: right;\n",
       "    }\n",
       "</style>\n",
       "<table border=\"1\" class=\"dataframe\">\n",
       "  <thead>\n",
       "    <tr style=\"text-align: right;\">\n",
       "      <th></th>\n",
       "      <th>id</th>\n",
       "      <th>message_id</th>\n",
       "      <th>content</th>\n",
       "      <th>message_type</th>\n",
       "      <th>masked_addressees</th>\n",
       "      <th>masked_from_addr</th>\n",
       "      <th>direction</th>\n",
       "      <th>external_id</th>\n",
       "      <th>external_timestamp</th>\n",
       "      <th>is_deleted</th>\n",
       "      <th>...</th>\n",
       "      <th>source_type</th>\n",
       "      <th>status_id</th>\n",
       "      <th>status</th>\n",
       "      <th>status_timestamp</th>\n",
       "      <th>status_uuid</th>\n",
       "      <th>message_status_uuid</th>\n",
       "      <th>number_id</th>\n",
       "      <th>message_status_inserted_at</th>\n",
       "      <th>message_status_updated_at</th>\n",
       "      <th>is_duplicated</th>\n",
       "    </tr>\n",
       "  </thead>\n",
       "  <tbody>\n",
       "    <tr>\n",
       "      <th>1</th>\n",
       "      <td>78227</td>\n",
       "      <td>801899189</td>\n",
       "      <td>None</td>\n",
       "      <td>template</td>\n",
       "      <td>2777367691180991833</td>\n",
       "      <td>4454300900215722365</td>\n",
       "      <td>outbound</td>\n",
       "      <td>wamid.HBgMOTE4NzY3NDY4Mjc1FQIAERgSQzNGQjI5MDZF...</td>\n",
       "      <td>NaT</td>\n",
       "      <td>None</td>\n",
       "      <td>...</td>\n",
       "      <td>CHANNEL_MESSAGE</td>\n",
       "      <td>892475320.0</td>\n",
       "      <td>read</td>\n",
       "      <td>2024-03-25 04:40:36</td>\n",
       "      <td>a616338c-7031-426a-87f1-84a3903a76f4</td>\n",
       "      <td>28fa7b16-8243-17de-c8f1-efa0127484d1</td>\n",
       "      <td>182</td>\n",
       "      <td>2024-03-25 04:40:37.118</td>\n",
       "      <td>2024-03-25 04:40:37.118</td>\n",
       "      <td>True</td>\n",
       "    </tr>\n",
       "    <tr>\n",
       "      <th>2</th>\n",
       "      <td>48735</td>\n",
       "      <td>801899189</td>\n",
       "      <td>None</td>\n",
       "      <td>template</td>\n",
       "      <td>2777367691180991833</td>\n",
       "      <td>4454300900215722365</td>\n",
       "      <td>outbound</td>\n",
       "      <td>wamid.HBgMOTE4NzY3NDY4Mjc1FQIAERgSQzNGQjI5MDZF...</td>\n",
       "      <td>NaT</td>\n",
       "      <td>None</td>\n",
       "      <td>...</td>\n",
       "      <td>CHANNEL_MESSAGE</td>\n",
       "      <td>892475320.0</td>\n",
       "      <td>read</td>\n",
       "      <td>2024-03-25 04:40:36</td>\n",
       "      <td>a616338c-7031-426a-87f1-84a3903a76f4</td>\n",
       "      <td>28fa7b16-8243-17de-c8f1-efa0127484d1</td>\n",
       "      <td>182</td>\n",
       "      <td>2024-03-25 04:40:37.118</td>\n",
       "      <td>2024-03-25 04:40:37.118</td>\n",
       "      <td>True</td>\n",
       "    </tr>\n",
       "    <tr>\n",
       "      <th>3</th>\n",
       "      <td>92973</td>\n",
       "      <td>801899189</td>\n",
       "      <td>None</td>\n",
       "      <td>template</td>\n",
       "      <td>2777367691180991833</td>\n",
       "      <td>4454300900215722365</td>\n",
       "      <td>outbound</td>\n",
       "      <td>wamid.HBgMOTE4NzY3NDY4Mjc1FQIAERgSQzNGQjI5MDZF...</td>\n",
       "      <td>NaT</td>\n",
       "      <td>None</td>\n",
       "      <td>...</td>\n",
       "      <td>CHANNEL_MESSAGE</td>\n",
       "      <td>892475320.0</td>\n",
       "      <td>read</td>\n",
       "      <td>2024-03-25 04:40:36</td>\n",
       "      <td>a616338c-7031-426a-87f1-84a3903a76f4</td>\n",
       "      <td>28fa7b16-8243-17de-c8f1-efa0127484d1</td>\n",
       "      <td>182</td>\n",
       "      <td>2024-03-25 04:40:37.118</td>\n",
       "      <td>2024-03-25 04:40:37.118</td>\n",
       "      <td>True</td>\n",
       "    </tr>\n",
       "    <tr>\n",
       "      <th>5</th>\n",
       "      <td>59473</td>\n",
       "      <td>709335128</td>\n",
       "      <td>None</td>\n",
       "      <td>template</td>\n",
       "      <td>3278053017832202935</td>\n",
       "      <td>4454300900215722365</td>\n",
       "      <td>outbound</td>\n",
       "      <td>gBEGkYiINQA1AglRX4QkgsdF9rE</td>\n",
       "      <td>NaT</td>\n",
       "      <td>None</td>\n",
       "      <td>...</td>\n",
       "      <td>CHANNEL_MESSAGE</td>\n",
       "      <td>772637365.0</td>\n",
       "      <td>read</td>\n",
       "      <td>2023-12-24 12:21:31</td>\n",
       "      <td>7f272f5e-4824-4b4b-9755-2e129f947e5a</td>\n",
       "      <td>d8e8aca5-8a6a-8dfa-8837-ea7a97974cf9</td>\n",
       "      <td>182</td>\n",
       "      <td>2023-12-24 12:21:31.938</td>\n",
       "      <td>2023-12-24 12:21:31.938</td>\n",
       "      <td>True</td>\n",
       "    </tr>\n",
       "    <tr>\n",
       "      <th>6</th>\n",
       "      <td>88965</td>\n",
       "      <td>709335128</td>\n",
       "      <td>None</td>\n",
       "      <td>template</td>\n",
       "      <td>3278053017832202935</td>\n",
       "      <td>4454300900215722365</td>\n",
       "      <td>outbound</td>\n",
       "      <td>gBEGkYiINQA1AglRX4QkgsdF9rE</td>\n",
       "      <td>NaT</td>\n",
       "      <td>None</td>\n",
       "      <td>...</td>\n",
       "      <td>CHANNEL_MESSAGE</td>\n",
       "      <td>772637365.0</td>\n",
       "      <td>read</td>\n",
       "      <td>2023-12-24 12:21:31</td>\n",
       "      <td>7f272f5e-4824-4b4b-9755-2e129f947e5a</td>\n",
       "      <td>d8e8aca5-8a6a-8dfa-8837-ea7a97974cf9</td>\n",
       "      <td>182</td>\n",
       "      <td>2023-12-24 12:21:31.938</td>\n",
       "      <td>2023-12-24 12:21:31.938</td>\n",
       "      <td>True</td>\n",
       "    </tr>\n",
       "  </tbody>\n",
       "</table>\n",
       "<p>5 rows × 28 columns</p>\n",
       "</div>"
      ],
      "text/plain": [
       "      id  message_id content message_type    masked_addressees  \\\n",
       "1  78227   801899189    None     template  2777367691180991833   \n",
       "2  48735   801899189    None     template  2777367691180991833   \n",
       "3  92973   801899189    None     template  2777367691180991833   \n",
       "5  59473   709335128    None     template  3278053017832202935   \n",
       "6  88965   709335128    None     template  3278053017832202935   \n",
       "\n",
       "      masked_from_addr direction  \\\n",
       "1  4454300900215722365  outbound   \n",
       "2  4454300900215722365  outbound   \n",
       "3  4454300900215722365  outbound   \n",
       "5  4454300900215722365  outbound   \n",
       "6  4454300900215722365  outbound   \n",
       "\n",
       "                                         external_id external_timestamp  \\\n",
       "1  wamid.HBgMOTE4NzY3NDY4Mjc1FQIAERgSQzNGQjI5MDZF...                NaT   \n",
       "2  wamid.HBgMOTE4NzY3NDY4Mjc1FQIAERgSQzNGQjI5MDZF...                NaT   \n",
       "3  wamid.HBgMOTE4NzY3NDY4Mjc1FQIAERgSQzNGQjI5MDZF...                NaT   \n",
       "5                        gBEGkYiINQA1AglRX4QkgsdF9rE                NaT   \n",
       "6                        gBEGkYiINQA1AglRX4QkgsdF9rE                NaT   \n",
       "\n",
       "  is_deleted  ...      source_type    status_id status    status_timestamp  \\\n",
       "1       None  ...  CHANNEL_MESSAGE  892475320.0   read 2024-03-25 04:40:36   \n",
       "2       None  ...  CHANNEL_MESSAGE  892475320.0   read 2024-03-25 04:40:36   \n",
       "3       None  ...  CHANNEL_MESSAGE  892475320.0   read 2024-03-25 04:40:36   \n",
       "5       None  ...  CHANNEL_MESSAGE  772637365.0   read 2023-12-24 12:21:31   \n",
       "6       None  ...  CHANNEL_MESSAGE  772637365.0   read 2023-12-24 12:21:31   \n",
       "\n",
       "                            status_uuid                   message_status_uuid  \\\n",
       "1  a616338c-7031-426a-87f1-84a3903a76f4  28fa7b16-8243-17de-c8f1-efa0127484d1   \n",
       "2  a616338c-7031-426a-87f1-84a3903a76f4  28fa7b16-8243-17de-c8f1-efa0127484d1   \n",
       "3  a616338c-7031-426a-87f1-84a3903a76f4  28fa7b16-8243-17de-c8f1-efa0127484d1   \n",
       "5  7f272f5e-4824-4b4b-9755-2e129f947e5a  d8e8aca5-8a6a-8dfa-8837-ea7a97974cf9   \n",
       "6  7f272f5e-4824-4b4b-9755-2e129f947e5a  d8e8aca5-8a6a-8dfa-8837-ea7a97974cf9   \n",
       "\n",
       "   number_id message_status_inserted_at message_status_updated_at  \\\n",
       "1        182    2024-03-25 04:40:37.118   2024-03-25 04:40:37.118   \n",
       "2        182    2024-03-25 04:40:37.118   2024-03-25 04:40:37.118   \n",
       "3        182    2024-03-25 04:40:37.118   2024-03-25 04:40:37.118   \n",
       "5        182    2023-12-24 12:21:31.938   2023-12-24 12:21:31.938   \n",
       "6        182    2023-12-24 12:21:31.938   2023-12-24 12:21:31.938   \n",
       "\n",
       "   is_duplicated  \n",
       "1           True  \n",
       "2           True  \n",
       "3           True  \n",
       "5           True  \n",
       "6           True  \n",
       "\n",
       "[5 rows x 28 columns]"
      ]
     },
     "execution_count": 10,
     "metadata": {},
     "output_type": "execute_result"
    }
   ],
   "source": [
    "query2_df = fetch_table_db(engine,query2)\n",
    "query2_df[query2_df['is_duplicated']==True].head()"
   ]
  },
  {
   "cell_type": "code",
   "execution_count": null,
   "id": "89f473dd-3b36-4097-b833-a9d84e454eab",
   "metadata": {
    "papermill": {
     "duration": 0.011416,
     "end_time": "2024-12-09T05:25:33.473055",
     "exception": false,
     "start_time": "2024-12-09T05:25:33.461639",
     "status": "completed"
    },
    "tags": []
   },
   "outputs": [],
   "source": []
  },
  {
   "cell_type": "markdown",
   "id": "369bb110-99f2-4105-8b0a-24b5dc5d58fc",
   "metadata": {
    "papermill": {
     "duration": 0.012054,
     "end_time": "2024-12-09T05:25:33.498574",
     "exception": false,
     "start_time": "2024-12-09T05:25:33.486520",
     "status": "completed"
    },
    "tags": []
   },
   "source": [
    "#### Data Validation"
   ]
  },
  {
   "cell_type": "markdown",
   "id": "46922dd7-c7d2-4da6-a118-ccf925ca91b7",
   "metadata": {
    "papermill": {
     "duration": 0.011569,
     "end_time": "2024-12-09T05:25:33.521755",
     "exception": false,
     "start_time": "2024-12-09T05:25:33.510186",
     "status": "completed"
    },
    "tags": []
   },
   "source": [
    "#### 3. Include at least three additional data validation queries to check for consistency, quality, etc. of the data."
   ]
  },
  {
   "cell_type": "markdown",
   "id": "d2525f2c-7516-4890-a953-9d7bc5ffd21c",
   "metadata": {
    "papermill": {
     "duration": 0.013942,
     "end_time": "2024-12-09T05:25:33.547855",
     "exception": false,
     "start_time": "2024-12-09T05:25:33.533913",
     "status": "completed"
    },
    "tags": []
   },
   "source": [
    "##### Validation 1 : Validate that every message_uuid in the status table has a corresponding uuid in the messages table"
   ]
  },
  {
   "cell_type": "code",
   "execution_count": 11,
   "id": "adb808bf-5866-4342-ad84-5e9bb9681658",
   "metadata": {
    "execution": {
     "iopub.execute_input": "2024-12-09T05:25:33.571029Z",
     "iopub.status.busy": "2024-12-09T05:25:33.570563Z",
     "iopub.status.idle": "2024-12-09T05:25:33.589876Z",
     "shell.execute_reply": "2024-12-09T05:25:33.589160Z"
    },
    "papermill": {
     "duration": 0.031942,
     "end_time": "2024-12-09T05:25:33.591576",
     "exception": false,
     "start_time": "2024-12-09T05:25:33.559634",
     "status": "completed"
    },
    "tags": []
   },
   "outputs": [
    {
     "name": "stdout",
     "output_type": "stream",
     "text": [
      "Data fetched successfully\n",
      "Validation Successful: All message UUIDs have related data in the statuses table.\n"
     ]
    }
   ],
   "source": [
    "val_query1 = \"\"\"\n",
    "            SELECT s.message_uuid\n",
    "            FROM l0_statuses s\n",
    "            LEFT JOIN l0_messages m ON s.message_uuid = m.uuid\n",
    "            WHERE m.uuid IS NULL;\n",
    "        \"\"\"\n",
    "val1_df = fetch_table_db(engine,val_query1)\n",
    "\n",
    "if val1_df.empty:\n",
    "    print(\"Validation Successful: All message UUIDs have related data in the statuses table.\")\n",
    "else:\n",
    "    print(\"Validation Failed: The following message UUIDs do not have related data in the statuses table:\")\n",
    "    print(val1_df.head(10))\n"
   ]
  },
  {
   "cell_type": "markdown",
   "id": "6bdb80a9-0c84-458b-bce3-5702636d62c7",
   "metadata": {
    "papermill": {
     "duration": 0.013245,
     "end_time": "2024-12-09T05:25:33.617861",
     "exception": false,
     "start_time": "2024-12-09T05:25:33.604616",
     "status": "completed"
    },
    "tags": []
   },
   "source": [
    "##### Validation 2: Ensure direction is either \"inbound\" or \"outbound"
   ]
  },
  {
   "cell_type": "code",
   "execution_count": 12,
   "id": "ea501b9c-cd8b-4c49-a1ca-e812347fe239",
   "metadata": {
    "execution": {
     "iopub.execute_input": "2024-12-09T05:25:33.643750Z",
     "iopub.status.busy": "2024-12-09T05:25:33.642971Z",
     "iopub.status.idle": "2024-12-09T05:25:33.663473Z",
     "shell.execute_reply": "2024-12-09T05:25:33.661973Z"
    },
    "papermill": {
     "duration": 0.033432,
     "end_time": "2024-12-09T05:25:33.665395",
     "exception": false,
     "start_time": "2024-12-09T05:25:33.631963",
     "status": "completed"
    },
    "tags": []
   },
   "outputs": [
    {
     "name": "stdout",
     "output_type": "stream",
     "text": [
      "Data fetched successfully\n",
      "Validation Successful.\n"
     ]
    }
   ],
   "source": [
    "\n",
    "val_query2 = \"\"\"\n",
    "            SELECT * \n",
    "            FROM l0_messages \n",
    "            WHERE direction NOT IN ('inbound', 'outbound');\n",
    "            \"\"\"\n",
    "val2_df = fetch_table_db(engine,val_query2)\n",
    "\n",
    "if val2_df.empty:\n",
    "    print(\"Validation Successful.\")\n",
    "else:\n",
    "    print(\"Validation Failed: The following dataset has direction other than inbound and outbound\")\n",
    "    print(val2_df.head(10))"
   ]
  },
  {
   "cell_type": "markdown",
   "id": "4257287e-03ec-4f1d-b097-9de34ea34516",
   "metadata": {
    "papermill": {
     "duration": 0.015743,
     "end_time": "2024-12-09T05:25:33.692232",
     "exception": false,
     "start_time": "2024-12-09T05:25:33.676489",
     "status": "completed"
    },
    "tags": []
   },
   "source": [
    "##### Validation 3: content must be non-null for inbound messages, and rendered_content must be non-null for outbound messages."
   ]
  },
  {
   "cell_type": "code",
   "execution_count": 13,
   "id": "b5a4316a-9855-4763-87f1-bb4f0122a769",
   "metadata": {
    "execution": {
     "iopub.execute_input": "2024-12-09T05:25:33.719915Z",
     "iopub.status.busy": "2024-12-09T05:25:33.719647Z",
     "iopub.status.idle": "2024-12-09T05:25:33.794893Z",
     "shell.execute_reply": "2024-12-09T05:25:33.793895Z"
    },
    "papermill": {
     "duration": 0.09217,
     "end_time": "2024-12-09T05:25:33.797209",
     "exception": false,
     "start_time": "2024-12-09T05:25:33.705039",
     "status": "completed"
    },
    "tags": []
   },
   "outputs": [
    {
     "name": "stdout",
     "output_type": "stream",
     "text": [
      "Data fetched successfully\n",
      "Validation Failed: The following dataset has content null for inbound messages or rendered_content null for outbound messages\n",
      "                                   uuid  \\\n",
      "0  9b888dc2-570d-5296-91b2-422fd74ea6db   \n",
      "1  d69f4904-7f50-7738-aa15-ffdf2e19cef0   \n",
      "2  98f18815-6aa7-732c-a109-f3265378d33e   \n",
      "3  a52e72a8-0b1b-370c-1c10-e303bb9a2cd2   \n",
      "4  486ad13f-242a-0c03-d1c7-bf61b4a5f856   \n",
      "5  1d16b5af-3b2b-ede2-545e-26fc20ac0245   \n",
      "6  91c180e2-fe84-362f-3c74-b63dbe241804   \n",
      "7  6e78d4f9-3d55-f66d-c60a-066697cf44f7   \n",
      "8  621611aa-16f0-63b1-503e-794501d70757   \n",
      "9  62090571-b847-d81b-31eb-e15828cea0b8   \n",
      "\n",
      "                                             content rendered_content  \\\n",
      "0  ⚠️निम्नलिखित लेबर (प्रसव पीड़ा) के लक्षण हैं ⚠️...             None   \n",
      "1                                               None             None   \n",
      "2                                              hello             None   \n",
      "3                                               None             None   \n",
      "4                                               None             None   \n",
      "5  మీ కుటుంబానికి ఈరోజు సందేశం 👉:\\n\\nజన్మనిచ్చిన ...             None   \n",
      "6                                               None             None   \n",
      "7                                               None             None   \n",
      "8  तुमच्या कुटुंबियांसाठी आजचा संदेश 👉: \\n\\nखात्र...             None   \n",
      "9                                               None             None   \n",
      "\n",
      "  direction  \n",
      "0  outbound  \n",
      "1   inbound  \n",
      "2  outbound  \n",
      "3  outbound  \n",
      "4  outbound  \n",
      "5  outbound  \n",
      "6  outbound  \n",
      "7  outbound  \n",
      "8  outbound  \n",
      "9  outbound  \n"
     ]
    }
   ],
   "source": [
    "val_query3 = \"\"\"\n",
    "            SELECT * \n",
    "            FROM l0_messages \n",
    "            WHERE \n",
    "                (direction = 'inbound' AND content IS NULL) \n",
    "                OR \n",
    "                (direction = 'outbound' AND rendered_content IS NULL);\n",
    "            \"\"\"\n",
    "\n",
    "val3_df = fetch_table_db(engine,val_query3)\n",
    "\n",
    "if val3_df.empty:\n",
    "    print(\"Validation Successful.\")\n",
    "else:\n",
    "    print(\"Validation Failed: The following dataset has content null for inbound messages or rendered_content null for outbound messages\")\n",
    "    print(val3_df[[\"uuid\",\"content\",\"rendered_content\", \"direction\"]].head(10))"
   ]
  },
  {
   "cell_type": "markdown",
   "id": "7df8ee56-21f4-4277-8417-a4940a6fc968",
   "metadata": {
    "papermill": {
     "duration": 0.011885,
     "end_time": "2024-12-09T05:25:33.820218",
     "exception": false,
     "start_time": "2024-12-09T05:25:33.808333",
     "status": "completed"
    },
    "tags": []
   },
   "source": [
    "#### Validation 4: Ensure that uuid are unique and non-null in messages"
   ]
  },
  {
   "cell_type": "code",
   "execution_count": 14,
   "id": "3117f4f9-f498-4698-a181-c51f91b4ab3c",
   "metadata": {
    "execution": {
     "iopub.execute_input": "2024-12-09T05:25:33.848889Z",
     "iopub.status.busy": "2024-12-09T05:25:33.848078Z",
     "iopub.status.idle": "2024-12-09T05:25:33.863133Z",
     "shell.execute_reply": "2024-12-09T05:25:33.861973Z"
    },
    "papermill": {
     "duration": 0.033117,
     "end_time": "2024-12-09T05:25:33.865241",
     "exception": false,
     "start_time": "2024-12-09T05:25:33.832124",
     "status": "completed"
    },
    "tags": []
   },
   "outputs": [
    {
     "name": "stdout",
     "output_type": "stream",
     "text": [
      "Data fetched successfully\n",
      "Validation Successful.\n"
     ]
    }
   ],
   "source": [
    "\n",
    "val_query4= \"\"\"\n",
    "            SELECT uuid, COUNT(*) as count\n",
    "            FROM l0_messages \n",
    "            GROUP BY uuid \n",
    "            HAVING COUNT(*) > 1;\n",
    "            \"\"\"\n",
    "val4_df = fetch_table_db(engine,val_query4)\n",
    "\n",
    "if val4_df.empty:\n",
    "    print(\"Validation Successful.\")\n",
    "else:\n",
    "    print(\"Validation Failed: uuid is null or not unique\")\n",
    "    print(val4_df.head(10))"
   ]
  },
  {
   "cell_type": "markdown",
   "id": "cb59f1b5-ad5d-4dbb-bd69-4c625c5b1fb0",
   "metadata": {
    "papermill": {
     "duration": 0.019549,
     "end_time": "2024-12-09T05:25:33.897312",
     "exception": false,
     "start_time": "2024-12-09T05:25:33.877763",
     "status": "completed"
    },
    "tags": []
   },
   "source": [
    "##### Validation 5: Status should be within the given options"
   ]
  },
  {
   "cell_type": "code",
   "execution_count": 15,
   "id": "9ae5c111-58b2-49ee-8d3f-8e4bc7700058",
   "metadata": {
    "execution": {
     "iopub.execute_input": "2024-12-09T05:25:33.922969Z",
     "iopub.status.busy": "2024-12-09T05:25:33.922217Z",
     "iopub.status.idle": "2024-12-09T05:25:33.941115Z",
     "shell.execute_reply": "2024-12-09T05:25:33.940174Z"
    },
    "papermill": {
     "duration": 0.034062,
     "end_time": "2024-12-09T05:25:33.943101",
     "exception": false,
     "start_time": "2024-12-09T05:25:33.909039",
     "status": "completed"
    },
    "tags": []
   },
   "outputs": [
    {
     "name": "stdout",
     "output_type": "stream",
     "text": [
      "Data fetched successfully\n",
      "Validation Successful.\n"
     ]
    }
   ],
   "source": [
    "\n",
    "val_query5 = \"\"\"  \n",
    "            SELECT * \n",
    "            FROM l0_statuses \n",
    "            WHERE status NOT IN ('sent', 'delivered', 'read','failed','deleted');\n",
    "            \"\"\"\n",
    "val5_df = fetch_table_db(engine,val_query5)\n",
    "\n",
    "if val5_df.empty:\n",
    "    print(\"Validation Successful.\")\n",
    "else:\n",
    "    print(\"Validation Failed\")\n",
    "    print(val5_df[val5_df['status'].isin(['sent', 'delivered', 'read','failed','deleted'])].head(10))"
   ]
  },
  {
   "cell_type": "code",
   "execution_count": null,
   "id": "fdd8500d-0643-4dd3-b601-1230bb01fa11",
   "metadata": {
    "papermill": {
     "duration": 0.010256,
     "end_time": "2024-12-09T05:25:33.965271",
     "exception": false,
     "start_time": "2024-12-09T05:25:33.955015",
     "status": "completed"
    },
    "tags": []
   },
   "outputs": [],
   "source": []
  },
  {
   "cell_type": "markdown",
   "id": "6832a746-26df-4953-9b70-ccb27b6613b8",
   "metadata": {
    "papermill": {
     "duration": 0.013344,
     "end_time": "2024-12-09T05:25:33.988160",
     "exception": false,
     "start_time": "2024-12-09T05:25:33.974816",
     "status": "completed"
    },
    "tags": []
   },
   "source": [
    "### Visualization"
   ]
  },
  {
   "cell_type": "markdown",
   "id": "eafa8044-a005-4f16-b324-d70d55256765",
   "metadata": {
    "papermill": {
     "duration": 0.013301,
     "end_time": "2024-12-09T05:25:34.016897",
     "exception": false,
     "start_time": "2024-12-09T05:25:34.003596",
     "status": "completed"
    },
    "tags": []
   },
   "source": [
    "##### 1. The number of total and active users over time, for a selected time \n",
    "range (e.g., per week for the last 3 months). Total users are those tha \n",
    "sent or received a message. Active users are those that send us a\n",
    "message (inbound)."
   ]
  },
  {
   "cell_type": "markdown",
   "id": "945875be-1166-40ff-bdf4-273514199722",
   "metadata": {
    "papermill": {
     "duration": 0.01182,
     "end_time": "2024-12-09T05:25:34.041081",
     "exception": false,
     "start_time": "2024-12-09T05:25:34.029261",
     "status": "completed"
    },
    "tags": []
   },
   "source": [
    "##### a. As we don't have latest records I'm using the maximum (latest) message update date from the l1_message_status table to use as the reference point for the time range\n",
    "##### b. Filtering the data to only include records within the last 12 weeks based on the end_date from the max_date CTE\n",
    "##### c. Counting the number of distinct users (total users) for each week using weekly_data CTE\n",
    "##### d. Counting the number of distinct active users (those who sent an inbound message) for each week using weekly_data CTE.\n",
    "##### e. Joining the total_users and active_users CTEs on the week column, showing the total and active users per week, with a default of 0 active users if no active users are found for a given week"
   ]
  },
  {
   "cell_type": "code",
   "execution_count": 16,
   "id": "8a903ecb-f31c-4af1-8cd0-5ea6480ceadf",
   "metadata": {
    "execution": {
     "iopub.execute_input": "2024-12-09T05:25:34.070828Z",
     "iopub.status.busy": "2024-12-09T05:25:34.069724Z",
     "iopub.status.idle": "2024-12-09T05:25:34.990963Z",
     "shell.execute_reply": "2024-12-09T05:25:34.989957Z"
    },
    "papermill": {
     "duration": 0.937551,
     "end_time": "2024-12-09T05:25:34.992760",
     "exception": false,
     "start_time": "2024-12-09T05:25:34.055209",
     "status": "completed"
    },
    "tags": []
   },
   "outputs": [
    {
     "name": "stdout",
     "output_type": "stream",
     "text": [
      "Data fetched successfully\n",
      "                        week  total_users  active_users\n",
      "0  2024-01-28 18:30:00+00:00           28            27\n",
      "1  2024-02-04 18:30:00+00:00           21            20\n",
      "2  2024-02-11 18:30:00+00:00           28            27\n",
      "3  2024-02-18 18:30:00+00:00           27            26\n",
      "4  2024-02-25 18:30:00+00:00           20            19\n",
      "5  2024-03-03 18:30:00+00:00           38            37\n",
      "6  2024-03-10 18:30:00+00:00           44            43\n",
      "7  2024-03-17 18:30:00+00:00           55            54\n",
      "8  2024-03-24 18:30:00+00:00           43            42\n",
      "9  2024-03-31 18:30:00+00:00           37            36\n",
      "10 2024-04-07 18:30:00+00:00           41            40\n",
      "11 2024-04-14 18:30:00+00:00           43            42\n",
      "12 2024-04-21 18:30:00+00:00            1             0\n"
     ]
    },
    {
     "data": {
      "image/png": "[encoded data removed]",
      "text/plain": [
       "<Figure size 1200x600 with 1 Axes>"
      ]
     },
     "metadata": {},
     "output_type": "display_data"
    }
   ],
   "source": [
    "import pandas as pd\n",
    "import matplotlib.pyplot as plt\n",
    "import seaborn as sns\n",
    "from datetime import timedelta\n",
    "\n",
    "\n",
    "query = \"\"\" \n",
    "        WITH user_data AS (\n",
    "            SELECT \n",
    "                message_updated_at::DATE AS date, \n",
    "                masked_from_addr AS user_id,\n",
    "                direction AS message_type\n",
    "            FROM \n",
    "                l1_message_status\n",
    "        ),\n",
    "        max_date AS (\n",
    "            SELECT MAX(message_updated_at::DATE) AS end_date\n",
    "            FROM l1_message_status\n",
    "        ),\n",
    "        filtered_data AS (\n",
    "            SELECT \n",
    "                u.date,\n",
    "                u.user_id,\n",
    "                u.message_type\n",
    "            FROM \n",
    "                user_data u,\n",
    "                max_date m\n",
    "            WHERE \n",
    "                u.date >= (m.end_date - INTERVAL '12 weeks')\n",
    "        ),\n",
    "        weekly_data AS (\n",
    "            SELECT\n",
    "                date_trunc('week', date) AS week,\n",
    "                user_id,\n",
    "                message_type\n",
    "            FROM \n",
    "                filtered_data\n",
    "        ),\n",
    "        total_users AS (\n",
    "            SELECT \n",
    "                week,\n",
    "                COUNT(DISTINCT user_id) AS total_users\n",
    "            FROM \n",
    "                weekly_data\n",
    "            GROUP BY \n",
    "                week\n",
    "        ),\n",
    "        active_users AS (\n",
    "            SELECT \n",
    "                week,\n",
    "                COUNT(DISTINCT user_id) AS active_users\n",
    "            FROM \n",
    "                weekly_data\n",
    "            WHERE \n",
    "                message_type = 'inbound'\n",
    "            GROUP BY \n",
    "                week\n",
    "        )\n",
    "        SELECT \n",
    "            t.week,\n",
    "            t.total_users,\n",
    "            COALESCE(a.active_users, 0) AS active_users\n",
    "        FROM \n",
    "            total_users t\n",
    "        LEFT JOIN \n",
    "            active_users a ON t.week = a.week\n",
    "        ORDER BY \n",
    "            t.week;\n",
    "\n",
    "        \"\"\"\n",
    "\n",
    "# Fetch data from database\n",
    "weekly_stats = fetch_table_db(engine, query)\n",
    "\n",
    "print(weekly_stats)\n",
    "\n",
    "# Plotting\n",
    "plt.figure(figsize=(12, 6))\n",
    "sns.lineplot(data=weekly_stats, x='week', y='total_users', label='Total Users', marker='o')\n",
    "sns.lineplot(data=weekly_stats, x='week', y='active_users', label='Active Users', marker='o')\n",
    "\n",
    "plt.title('Total and Active Users Over Time (Weekly)', fontsize=16)\n",
    "plt.xlabel('Week', fontsize=12)\n",
    "plt.ylabel('Number of Users', fontsize=12)\n",
    "plt.legend()\n",
    "plt.grid(True)\n",
    "plt.tight_layout()\n",
    "plt.xticks(rotation=45)\n",
    "plt.show()"
   ]
  },
  {
   "cell_type": "code",
   "execution_count": null,
   "id": "992d46c2-1d85-4de0-b0db-260722192a84",
   "metadata": {
    "papermill": {
     "duration": 0.011842,
     "end_time": "2024-12-09T05:25:35.018056",
     "exception": false,
     "start_time": "2024-12-09T05:25:35.006214",
     "status": "completed"
    },
    "tags": []
   },
   "outputs": [],
   "source": []
  },
  {
   "cell_type": "markdown",
   "id": "bd07b469-a2a4-413f-97d8-db9d22752552",
   "metadata": {
    "papermill": {
     "duration": 0.010945,
     "end_time": "2024-12-09T05:25:35.039595",
     "exception": false,
     "start_time": "2024-12-09T05:25:35.028650",
     "status": "completed"
    },
    "tags": []
   },
   "source": [
    "#### 2. The fraction of sent messages that are read, and the amount of time between when an outbound message is sent and when it is read."
   ]
  },
  {
   "cell_type": "markdown",
   "id": "31312567-b6a2-476e-afcb-0eac1a28095f",
   "metadata": {
    "papermill": {
     "duration": 0.010574,
     "end_time": "2024-12-09T05:25:35.064769",
     "exception": false,
     "start_time": "2024-12-09T05:25:35.054195",
     "status": "completed"
    },
    "tags": []
   },
   "source": [
    "##### a. Retriving all outbound messages that have a 'sent' status, along with their UUID, sent time, and the timestamp when the status was recorded.\n",
    "##### b. Retrieving the messages from the sent_messages CTE that have a 'read' status, along with the timestamp of when the message was read (statuses table)\n",
    "##### c. read_fraction: The fraction of sent messages that have been read, calculated by dividing the number of distinct 'read' messages by the number of distinct 'sent' messages\n",
    "##### d. avg_time_to_read_minutes: The average time it takes for a message to be read, calculated as the average difference (in minutes) between the read timestamp and the sent timestamp."
   ]
  },
  {
   "cell_type": "code",
   "execution_count": 17,
   "id": "f93c3e38-c518-4a53-a80e-7fcb2a519bd9",
   "metadata": {
    "execution": {
     "iopub.execute_input": "2024-12-09T05:25:35.093768Z",
     "iopub.status.busy": "2024-12-09T05:25:35.093327Z",
     "iopub.status.idle": "2024-12-09T05:25:35.215802Z",
     "shell.execute_reply": "2024-12-09T05:25:35.214833Z"
    },
    "papermill": {
     "duration": 0.138885,
     "end_time": "2024-12-09T05:25:35.217829",
     "exception": false,
     "start_time": "2024-12-09T05:25:35.078944",
     "status": "completed"
    },
    "scrolled": true,
    "tags": []
   },
   "outputs": [
    {
     "name": "stdout",
     "output_type": "stream",
     "text": [
      "Data fetched successfully\n"
     ]
    },
    {
     "data": {
      "image/png": "[encoded data removed]",
      "text/plain": [
       "<Figure size 600x400 with 1 Axes>"
      ]
     },
     "metadata": {},
     "output_type": "display_data"
    }
   ],
   "source": [
    "query = \"\"\"\n",
    "        WITH sent_messages AS (\n",
    "        SELECT \n",
    "            m.uuid AS message_uuid,\n",
    "            s.timestamp AS sent_time,\n",
    "            s.status AS message_status,\n",
    "            s.inserted_at AS status_timestamp\n",
    "        FROM \n",
    "            l0_messages m\n",
    "        LEFT JOIN \n",
    "            l0_statuses s ON m.uuid = s.message_uuid\n",
    "        WHERE \n",
    "            m.direction = 'outbound'\n",
    "            AND s.status = 'sent' \n",
    "    ),\n",
    "    read_messages AS (\n",
    "        SELECT \n",
    "            sent_messages.message_uuid,\n",
    "            sent_messages.sent_time,\n",
    "            s.timestamp AS status_timestamp\n",
    "        FROM \n",
    "            sent_messages\n",
    "        JOIN \n",
    "            l0_statuses s ON sent_messages.message_uuid = s.message_uuid\n",
    "        WHERE \n",
    "            s.status = 'read' \n",
    "    )\n",
    "    \n",
    "    SELECT \n",
    "        COUNT(DISTINCT read_messages.message_uuid) * 1.0 / COUNT(DISTINCT sent_messages.message_uuid) AS read_fraction,\n",
    "        AVG(EXTRACT(EPOCH FROM (read_messages.status_timestamp - read_messages.sent_time)) / 60) AS avg_time_to_read_minutes\n",
    "\n",
    "    FROM \n",
    "        read_messages\n",
    "    RIGHT JOIN \n",
    "        sent_messages ON read_messages.message_uuid = sent_messages.message_uuid;\n",
    "        \"\"\"\n",
    "\n",
    "message_stats = fetch_table_db(engine, query)\n",
    "\n",
    "# Plotting the data\n",
    "read_fraction = message_stats['read_fraction'].iloc[0]\n",
    "avg_time_to_read_minutes = message_stats['avg_time_to_read_minutes'].iloc[0]\n",
    "\n",
    "plt.figure(figsize=(6, 4))\n",
    "\n",
    "plt.text(0.5, 0.7, f\"Read Fraction: {read_fraction * 100:.2f}%\", fontsize=16, ha='center', va='center')\n",
    "plt.text(0.5, 0.3, f\"Avg Time to Read: {avg_time_to_read_minutes:.2f} minutes\", fontsize=16, ha='center', va='center')\n",
    "\n",
    "plt.axis('off')\n",
    "plt.title('Message Read KPIs', fontsize=18)\n",
    "plt.tight_layout()\n",
    "plt.show()"
   ]
  },
  {
   "cell_type": "code",
   "execution_count": null,
   "id": "bc4b7954-771a-4a09-b72d-4c98ea942146",
   "metadata": {
    "papermill": {
     "duration": 0.020422,
     "end_time": "2024-12-09T05:25:35.255394",
     "exception": false,
     "start_time": "2024-12-09T05:25:35.234972",
     "status": "completed"
    },
    "tags": []
   },
   "outputs": [],
   "source": []
  },
  {
   "cell_type": "markdown",
   "id": "568a4800-2040-4dda-9ce4-8fb723d5e027",
   "metadata": {
    "papermill": {
     "duration": 0.012586,
     "end_time": "2024-12-09T05:25:35.284101",
     "exception": false,
     "start_time": "2024-12-09T05:25:35.271515",
     "status": "completed"
    },
    "tags": []
   },
   "source": [
    "#### 3. The number of outbound messages in the last week by status,e.g.,sent,\n",
    "delivered read."
   ]
  },
  {
   "cell_type": "markdown",
   "id": "a3cce75f-73cf-43f4-87dc-066d3c8c031b",
   "metadata": {
    "papermill": {
     "duration": 0.014724,
     "end_time": "2024-12-09T05:25:35.310113",
     "exception": false,
     "start_time": "2024-12-09T05:25:35.295389",
     "status": "completed"
    },
    "tags": []
   },
   "source": [
    "##### Below query retrieves the count of distinct outbound messages (grouped by status) sent in the last 365 days. It joins the l0_messages table with the l0_statuses table to fetch message status"
   ]
  },
  {
   "cell_type": "code",
   "execution_count": 18,
   "id": "26368815-22bb-4904-a6f6-0fe39b93fa0a",
   "metadata": {
    "execution": {
     "iopub.execute_input": "2024-12-09T05:25:35.343610Z",
     "iopub.status.busy": "2024-12-09T05:25:35.343113Z",
     "iopub.status.idle": "2024-12-09T05:25:35.470799Z",
     "shell.execute_reply": "2024-12-09T05:25:35.469602Z"
    },
    "papermill": {
     "duration": 0.145986,
     "end_time": "2024-12-09T05:25:35.472776",
     "exception": false,
     "start_time": "2024-12-09T05:25:35.326790",
     "status": "completed"
    },
    "tags": []
   },
   "outputs": [
    {
     "name": "stdout",
     "output_type": "stream",
     "text": [
      "Data fetched successfully\n",
      "      status  message_count\n",
      "0       sent           5099\n",
      "1  delivered           4664\n",
      "2       read           4610\n",
      "3     failed            291\n"
     ]
    },
    {
     "data": {
      "image/png": "[encoded data removed]",
      "text/plain": [
       "<Figure size 800x800 with 1 Axes>"
      ]
     },
     "metadata": {},
     "output_type": "display_data"
    }
   ],
   "source": [
    "\n",
    "query = \"\"\"\n",
    "        SELECT \n",
    "        s.status,\n",
    "        COUNT(DISTINCT m.uuid) AS message_count\n",
    "    FROM \n",
    "        l0_messages m\n",
    "    JOIN \n",
    "        l0_statuses s ON m.uuid = s.message_uuid\n",
    "    WHERE \n",
    "        m.direction = 'outbound' \n",
    "        AND s.inserted_at >= NOW() - INTERVAL '365 days'  \n",
    "    GROUP BY \n",
    "        s.status\n",
    "    ORDER BY \n",
    "        message_count DESC;\n",
    "    \"\"\"\n",
    "# No data vailable for last 7 days, making it 365 to visulaise\n",
    "message_last_week = fetch_table_db(engine, query)\n",
    "print(message_last_week)\n",
    "\n",
    "# Plotting data\n",
    "plt.figure(figsize=(8, 8))\n",
    "\n",
    "# Pie chart to show distribution of message statuses\n",
    "plt.pie(message_last_week['message_count'], labels=message_last_week['status'], autopct='%1.1f%%', colors=sns.color_palette('viridis', len(message_last_week)))\n",
    "\n",
    "# Adding title for the pie chart\n",
    "plt.title('Distribution of Outbound Messages by Status', fontsize=16)\n",
    "plt.show()"
   ]
  },
  {
   "cell_type": "code",
   "execution_count": null,
   "id": "5378ee5d-baa0-4a6f-9109-6c09e09149d3",
   "metadata": {
    "papermill": {
     "duration": 0.010791,
     "end_time": "2024-12-09T05:25:35.501170",
     "exception": false,
     "start_time": "2024-12-09T05:25:35.490379",
     "status": "completed"
    },
    "tags": []
   },
   "outputs": [],
   "source": []
  }
 ],
 "metadata": {
  "kernelspec": {
   "display_name": "Python 3 (ipykernel)",
   "language": "python",
   "name": "python3"
  },
  "language_info": {
   "codemirror_mode": {
    "name": "ipython",
    "version": 3
   },
   "file_extension": ".py",
   "mimetype": "text/x-python",
   "name": "python",
   "nbconvert_exporter": "python",
   "pygments_lexer": "ipython3",
   "version": "3.12.7"
  },
  "papermill": {
   "default_parameters": {},
   "duration": 21.149755,
   "end_time": "2024-12-09T05:25:36.143484",
   "environment_variables": {},
   "exception": null,
   "input_path": "/opt/airflow/dataset/transformation_visualisation.ipynb",
   "output_path": "/opt/airflow/dataset/output_transformation_visualisation.ipynb",
   "parameters": {},
   "start_time": "2024-12-09T05:25:14.993729",
   "version": "2.6.0"
  }
 },
 "nbformat": 4,
 "nbformat_minor": 5
}