{
 "cells": [
  {
   "cell_type": "code",
   "execution_count": 1,
   "id": "afd4ca42",
   "metadata": {
    "execution": {
     "iopub.execute_input": "2024-12-09T05:17:57.151839Z",
     "iopub.status.busy": "2024-12-09T05:17:57.150701Z",
     "iopub.status.idle": "2024-12-09T05:17:57.159033Z",
     "shell.execute_reply": "2024-12-09T05:17:57.157425Z"
    },
    "papermill": {
     "duration": 0.027872,
     "end_time": "2024-12-09T05:17:57.163145",
     "exception": false,
     "start_time": "2024-12-09T05:17:57.135273",
     "status": "completed"
    },
    "tags": [
     "injected-parameters"
    ]
   },
   "outputs": [],
   "source": [
    "# Parameters\n",
    "file_path = \"/opt/airflow/dataset/Senior Data Engineer Task Assignment.xlsx\"\n",
    "sheet_name = \"Statuses\"\n"
   ]
  },
  {
   "cell_type": "code",
   "execution_count": 2,
   "id": "62d0a7b6-30b1-44d6-84e4-acfb42f67e41",
   "metadata": {
    "execution": {
     "iopub.execute_input": "2024-12-09T05:17:57.183327Z",
     "iopub.status.busy": "2024-12-09T05:17:57.182368Z",
     "iopub.status.idle": "2024-12-09T05:17:57.691095Z",
     "shell.execute_reply": "2024-12-09T05:17:57.690272Z"
    },
    "papermill": {
     "duration": 0.520846,
     "end_time": "2024-12-09T05:17:57.693529",
     "exception": false,
     "start_time": "2024-12-09T05:17:57.172683",
     "status": "completed"
    },
    "tags": []
   },
   "outputs": [],
   "source": [
    "import pandas as pd"
   ]
  },
  {
   "cell_type": "code",
   "execution_count": 3,
   "id": "368b5bf6-4efd-4a47-ac13-f37a9a91f9fe",
   "metadata": {
    "execution": {
     "iopub.execute_input": "2024-12-09T05:17:57.707628Z",
     "iopub.status.busy": "2024-12-09T05:17:57.707183Z",
     "iopub.status.idle": "2024-12-09T05:18:05.946850Z",
     "shell.execute_reply": "2024-12-09T05:18:05.945829Z"
    },
    "papermill": {
     "duration": 8.249019,
     "end_time": "2024-12-09T05:18:05.948646",
     "exception": false,
     "start_time": "2024-12-09T05:17:57.699627",
     "status": "completed"
    },
    "tags": []
   },
   "outputs": [],
   "source": [
    "\n",
    "status = pd.read_excel(\"/opt/airflow/dataset/Senior Data Engineer Task Assignment.xlsx\", sheet_name=\"Statuses\")\n",
    "status.drop(columns=['message_id'], inplace=True)\n",
    "status.drop_duplicates(subset=[\"id\"], inplace=True)"
   ]
  },
  {
   "cell_type": "code",
   "execution_count": 4,
   "id": "077f5437-6f6e-4d95-9962-ba7ceaf78278",
   "metadata": {
    "execution": {
     "iopub.execute_input": "2024-12-09T05:18:05.963557Z",
     "iopub.status.busy": "2024-12-09T05:18:05.962868Z",
     "iopub.status.idle": "2024-12-09T05:18:06.452116Z",
     "shell.execute_reply": "2024-12-09T05:18:06.451372Z"
    },
    "papermill": {
     "duration": 0.498385,
     "end_time": "2024-12-09T05:18:06.454163",
     "exception": false,
     "start_time": "2024-12-09T05:18:05.955778",
     "status": "completed"
    },
    "tags": []
   },
   "outputs": [],
   "source": [
    "status.to_csv(\"/opt/airflow/dataset/cleanup_statuses.csv\", index=False)"
   ]
  }
 ],
 "metadata": {
  "kernelspec": {
   "display_name": "Python 3 (ipykernel)",
   "language": "python",
   "name": "python3"
  },
  "language_info": {
   "codemirror_mode": {
    "name": "ipython",
    "version": 3
   },
   "file_extension": ".py",
   "mimetype": "text/x-python",
   "name": "python",
   "nbconvert_exporter": "python",
   "pygments_lexer": "ipython3",
   "version": "3.12.7"
  },
  "papermill": {
   "default_parameters": {},
   "duration": 11.776202,
   "end_time": "2024-12-09T05:18:06.879923",
   "environment_variables": {},
   "exception": null,
   "input_path": "/opt/airflow/dataset/cleanup_statuses.ipynb",
   "output_path": "/opt/airflow/dataset/output_cleanup_statuses.ipynb",
   "parameters": {
    "file_path": "/opt/airflow/dataset/Senior Data Engineer Task Assignment.xlsx",
    "sheet_name": "Statuses"
   },
   "start_time": "2024-12-09T05:17:55.103721",
   "version": "2.6.0"
  }
 },
 "nbformat": 4,
 "nbformat_minor": 5
}