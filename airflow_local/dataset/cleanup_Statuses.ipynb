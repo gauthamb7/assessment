{
 "cells": [
  {
   "cell_type": "code",
   "execution_count": 1,
   "id": "62d0a7b6-30b1-44d6-84e4-acfb42f67e41",
   "metadata": {},
   "outputs": [],
   "source": [
    "import pandas as pd"
   ]
  },
  {
   "cell_type": "code",
   "execution_count": null,
   "id": "368b5bf6-4efd-4a47-ac13-f37a9a91f9fe",
   "metadata": {},
   "outputs": [],
   "source": [
    "\n",
    "status = pd.read_excel(\"/opt/airflow/dataset/Senior Data Engineer Task Assignment.xlsx\", sheet_name=\"Statuses\")\n",
    "status.drop(columns=['message_id'], inplace=True)\n",
    "status.drop_duplicates(subset=[\"id\"], inplace=True)"
   ]
  },
  {
   "cell_type": "code",
   "execution_count": null,
   "id": "077f5437-6f6e-4d95-9962-ba7ceaf78278",
   "metadata": {},
   "outputs": [],
   "source": [
    "status.to_csv(\"/opt/airflow/dataset/cleanup_statuses.csv\", index=False)"
   ]
  }
 ],
 "metadata": {
  "kernelspec": {
   "display_name": "Python 3 (ipykernel)",
   "language": "python",
   "name": "python3"
  },
  "language_info": {
   "codemirror_mode": {
    "name": "ipython",
    "version": 3
   },
   "file_extension": ".py",
   "mimetype": "text/x-python",
   "name": "python",
   "nbconvert_exporter": "python",
   "pygments_lexer": "ipython3",
   "version": "3.11.7"
  }
 },
 "nbformat": 4,
 "nbformat_minor": 5
}
