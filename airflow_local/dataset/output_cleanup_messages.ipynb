{
 "cells": [
  {
   "cell_type": "code",
   "execution_count": 1,
   "id": "08454484",
   "metadata": {
    "execution": {
     "iopub.execute_input": "2024-12-09T05:17:37.117228Z",
     "iopub.status.busy": "2024-12-09T05:17:37.116626Z",
     "iopub.status.idle": "2024-12-09T05:17:37.127321Z",
     "shell.execute_reply": "2024-12-09T05:17:37.125331Z"
    },
    "papermill": {
     "duration": 0.035245,
     "end_time": "2024-12-09T05:17:37.133799",
     "exception": false,
     "start_time": "2024-12-09T05:17:37.098554",
     "status": "completed"
    },
    "tags": [
     "injected-parameters"
    ]
   },
   "outputs": [],
   "source": [
    "# Parameters\n",
    "file_path = \"/opt/airflow/dataset/Senior Data Engineer Task Assignment.xlsx\"\n",
    "sheet_name = \"Messages\"\n"
   ]
  },
  {
   "cell_type": "code",
   "execution_count": 2,
   "id": "d6e7ae17-9097-4007-ad54-84d303242282",
   "metadata": {
    "execution": {
     "iopub.execute_input": "2024-12-09T05:17:37.164323Z",
     "iopub.status.busy": "2024-12-09T05:17:37.163964Z",
     "iopub.status.idle": "2024-12-09T05:17:40.052069Z",
     "shell.execute_reply": "2024-12-09T05:17:40.050980Z"
    },
    "papermill": {
     "duration": 2.903562,
     "end_time": "2024-12-09T05:17:40.054092",
     "exception": false,
     "start_time": "2024-12-09T05:17:37.150530",
     "status": "completed"
    },
    "tags": []
   },
   "outputs": [
    {
     "name": "stdout",
     "output_type": "stream",
     "text": [
      "Requirement already satisfied: ipykernel in /home/airflow/.local/lib/python3.12/site-packages (6.29.5)\r\n",
      "Requirement already satisfied: comm>=0.1.1 in /home/airflow/.local/lib/python3.12/site-packages (from ipykernel) (0.2.2)\r\n",
      "Requirement already satisfied: debugpy>=1.6.5 in /home/airflow/.local/lib/python3.12/site-packages (from ipykernel) (1.8.9)\r\n",
      "Requirement already satisfied: ipython>=7.23.1 in /home/airflow/.local/lib/python3.12/site-packages (from ipykernel) (8.30.0)\r\n",
      "Requirement already satisfied: jupyter-client>=6.1.12 in /home/airflow/.local/lib/python3.12/site-packages (from ipykernel) (8.6.3)\r\n",
      "Requirement already satisfied: jupyter-core!=5.0.*,>=4.12 in /home/airflow/.local/lib/python3.12/site-packages (from ipykernel) (5.7.2)\r\n",
      "Requirement already satisfied: matplotlib-inline>=0.1 in /home/airflow/.local/lib/python3.12/site-packages (from ipykernel) (0.1.7)\r\n",
      "Requirement already satisfied: nest-asyncio in /home/airflow/.local/lib/python3.12/site-packages (from ipykernel) (1.6.0)\r\n",
      "Requirement already satisfied: packaging in /home/airflow/.local/lib/python3.12/site-packages (from ipykernel) (24.1)\r\n",
      "Requirement already satisfied: psutil in /home/airflow/.local/lib/python3.12/site-packages (from ipykernel) (6.1.0)\r\n",
      "Requirement already satisfied: pyzmq>=24 in /home/airflow/.local/lib/python3.12/site-packages (from ipykernel) (26.2.0)\r\n",
      "Requirement already satisfied: tornado>=6.1 in /home/airflow/.local/lib/python3.12/site-packages (from ipykernel) (6.4.1)\r\n",
      "Requirement already satisfied: traitlets>=5.4.0 in /home/airflow/.local/lib/python3.12/site-packages (from ipykernel) (5.14.3)\r\n",
      "Requirement already satisfied: decorator in /home/airflow/.local/lib/python3.12/site-packages (from ipython>=7.23.1->ipykernel) (5.1.1)\r\n",
      "Requirement already satisfied: jedi>=0.16 in /home/airflow/.local/lib/python3.12/site-packages (from ipython>=7.23.1->ipykernel) (0.19.2)\r\n",
      "Requirement already satisfied: pexpect>4.3 in /home/airflow/.local/lib/python3.12/site-packages (from ipython>=7.23.1->ipykernel) (4.9.0)\r\n",
      "Requirement already satisfied: prompt_toolkit<3.1.0,>=3.0.41 in /home/airflow/.local/lib/python3.12/site-packages (from ipython>=7.23.1->ipykernel) (3.0.48)\r\n",
      "Requirement already satisfied: pygments>=2.4.0 in /home/airflow/.local/lib/python3.12/site-packages (from ipython>=7.23.1->ipykernel) (2.18.0)\r\n",
      "Requirement already satisfied: stack_data in /home/airflow/.local/lib/python3.12/site-packages (from ipython>=7.23.1->ipykernel) (0.6.3)\r\n",
      "Requirement already satisfied: python-dateutil>=2.8.2 in /home/airflow/.local/lib/python3.12/site-packages (from jupyter-client>=6.1.12->ipykernel) (2.9.0.post0)\r\n",
      "Requirement already satisfied: platformdirs>=2.5 in /home/airflow/.local/lib/python3.12/site-packages (from jupyter-core!=5.0.*,>=4.12->ipykernel) (4.3.6)\r\n",
      "Requirement already satisfied: parso<0.9.0,>=0.8.4 in /home/airflow/.local/lib/python3.12/site-packages (from jedi>=0.16->ipython>=7.23.1->ipykernel) (0.8.4)\r\n",
      "Requirement already satisfied: ptyprocess>=0.5 in /home/airflow/.local/lib/python3.12/site-packages (from pexpect>4.3->ipython>=7.23.1->ipykernel) (0.7.0)\r\n",
      "Requirement already satisfied: wcwidth in /home/airflow/.local/lib/python3.12/site-packages (from prompt_toolkit<3.1.0,>=3.0.41->ipython>=7.23.1->ipykernel) (0.2.13)\r\n",
      "Requirement already satisfied: six>=1.5 in /home/airflow/.local/lib/python3.12/site-packages (from python-dateutil>=2.8.2->jupyter-client>=6.1.12->ipykernel) (1.16.0)\r\n",
      "Requirement already satisfied: executing>=1.2.0 in /home/airflow/.local/lib/python3.12/site-packages (from stack_data->ipython>=7.23.1->ipykernel) (2.1.0)\r\n",
      "Requirement already satisfied: asttokens>=2.1.0 in /home/airflow/.local/lib/python3.12/site-packages (from stack_data->ipython>=7.23.1->ipykernel) (3.0.0)\r\n",
      "Requirement already satisfied: pure-eval in /home/airflow/.local/lib/python3.12/site-packages (from stack_data->ipython>=7.23.1->ipykernel) (0.2.3)\r\n"
     ]
    },
    {
     "name": "stdout",
     "output_type": "stream",
     "text": [
      "\r\n",
      "\u001b[1m[\u001b[0m\u001b[34;49mnotice\u001b[0m\u001b[1;39;49m]\u001b[0m\u001b[39;49m A new release of pip is available: \u001b[0m\u001b[31;49m24.2\u001b[0m\u001b[39;49m -> \u001b[0m\u001b[32;49m24.3.1\u001b[0m\r\n",
      "\u001b[1m[\u001b[0m\u001b[34;49mnotice\u001b[0m\u001b[1;39;49m]\u001b[0m\u001b[39;49m To update, run: \u001b[0m\u001b[32;49mpip install --upgrade pip\u001b[0m\r\n"
     ]
    },
    {
     "name": "stdout",
     "output_type": "stream",
     "text": [
      "[Errno 13] Permission denied: '/home/airflow/.local/share/jupyter/kernels/python3'\r\n",
      "Perhaps you want `sudo` or `--user`?\r\n"
     ]
    }
   ],
   "source": [
    "! pip install ipykernel\n",
    "! python -m ipykernel install --user\n"
   ]
  },
  {
   "cell_type": "code",
   "execution_count": 3,
   "id": "025dc47c-f0e0-400b-a74f-bcb22c859e4d",
   "metadata": {
    "execution": {
     "iopub.execute_input": "2024-12-09T05:17:40.073107Z",
     "iopub.status.busy": "2024-12-09T05:17:40.072832Z",
     "iopub.status.idle": "2024-12-09T05:17:40.466185Z",
     "shell.execute_reply": "2024-12-09T05:17:40.465244Z"
    },
    "papermill": {
     "duration": 0.406541,
     "end_time": "2024-12-09T05:17:40.469245",
     "exception": false,
     "start_time": "2024-12-09T05:17:40.062704",
     "status": "completed"
    },
    "tags": []
   },
   "outputs": [],
   "source": [
    "import pandas as pd"
   ]
  },
  {
   "cell_type": "code",
   "execution_count": null,
   "id": "a4dc81bc-d2ed-4a89-9230-07ac3694e36d",
   "metadata": {
    "papermill": {
     "duration": 0.007327,
     "end_time": "2024-12-09T05:17:40.485284",
     "exception": false,
     "start_time": "2024-12-09T05:17:40.477957",
     "status": "completed"
    },
    "tags": []
   },
   "outputs": [],
   "source": []
  },
  {
   "cell_type": "code",
   "execution_count": 4,
   "id": "67b06d6c-e7d1-4d3a-90c4-6f14e8742d19",
   "metadata": {
    "execution": {
     "iopub.execute_input": "2024-12-09T05:17:40.499659Z",
     "iopub.status.busy": "2024-12-09T05:17:40.499069Z",
     "iopub.status.idle": "2024-12-09T05:17:48.201808Z",
     "shell.execute_reply": "2024-12-09T05:17:48.200705Z"
    },
    "papermill": {
     "duration": 7.712544,
     "end_time": "2024-12-09T05:17:48.203704",
     "exception": false,
     "start_time": "2024-12-09T05:17:40.491160",
     "status": "completed"
    },
    "tags": []
   },
   "outputs": [],
   "source": [
    "\n",
    "msg = pd.read_excel(\"/opt/airflow/dataset/Senior Data Engineer Task Assignment.xlsx\", sheet_name=\"Messages\")\n",
    "msg.drop_duplicates(subset=[\"id\"], inplace=True)"
   ]
  },
  {
   "cell_type": "code",
   "execution_count": 5,
   "id": "4be97119-1800-4c8e-8f14-4ae542e5fa39",
   "metadata": {
    "execution": {
     "iopub.execute_input": "2024-12-09T05:17:48.215177Z",
     "iopub.status.busy": "2024-12-09T05:17:48.214876Z",
     "iopub.status.idle": "2024-12-09T05:17:48.992924Z",
     "shell.execute_reply": "2024-12-09T05:17:48.992236Z"
    },
    "papermill": {
     "duration": 0.784665,
     "end_time": "2024-12-09T05:17:48.994795",
     "exception": false,
     "start_time": "2024-12-09T05:17:48.210130",
     "status": "completed"
    },
    "tags": []
   },
   "outputs": [],
   "source": [
    "msg.to_csv(\"/opt/airflow/dataset/cleanup_messages.csv\", index=False)"
   ]
  }
 ],
 "metadata": {
  "kernelspec": {
   "display_name": "Python 3 (ipykernel)",
   "language": "python",
   "name": "python3"
  },
  "language_info": {
   "codemirror_mode": {
    "name": "ipython",
    "version": 3
   },
   "file_extension": ".py",
   "mimetype": "text/x-python",
   "name": "python",
   "nbconvert_exporter": "python",
   "pygments_lexer": "ipython3",
   "version": "3.12.7"
  },
  "papermill": {
   "default_parameters": {},
   "duration": 13.815472,
   "end_time": "2024-12-09T05:17:49.320472",
   "environment_variables": {},
   "exception": null,
   "input_path": "/opt/airflow/dataset/cleanup_messages.ipynb",
   "output_path": "/opt/airflow/dataset/output_cleanup_messages.ipynb",
   "parameters": {
    "file_path": "/opt/airflow/dataset/Senior Data Engineer Task Assignment.xlsx",
    "sheet_name": "Messages"
   },
   "start_time": "2024-12-09T05:17:35.505000",
   "version": "2.6.0"
  }
 },
 "nbformat": 4,
 "nbformat_minor": 5
}